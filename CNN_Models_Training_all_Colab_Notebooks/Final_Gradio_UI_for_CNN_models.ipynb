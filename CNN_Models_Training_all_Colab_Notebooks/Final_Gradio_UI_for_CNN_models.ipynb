{
  "nbformat": 4,
  "nbformat_minor": 0,
  "metadata": {
    "colab": {
      "provenance": [],
      "gpuType": "T4"
    },
    "kernelspec": {
      "name": "python3",
      "display_name": "Python 3"
    },
    "language_info": {
      "name": "python"
    },
    "accelerator": "GPU"
  },
  "cells": [
    {
      "cell_type": "code",
      "execution_count": null,
      "metadata": {
        "colab": {
          "base_uri": "https://localhost:8080/"
        },
        "id": "mvx5RhoN9YvD",
        "outputId": "5ea0ba1d-d6a8-4c79-d141-fbd1cdf6b575"
      },
      "outputs": [
        {
          "output_type": "stream",
          "name": "stdout",
          "text": [
            "Mounted at /content/drive\n"
          ]
        }
      ],
      "source": [
        "from google.colab import drive\n",
        "drive.mount('/content/drive')"
      ]
    },
    {
      "cell_type": "markdown",
      "source": [
        "# Installing dependencies for gradio"
      ],
      "metadata": {
        "id": "7WIBk7Ln98E1"
      }
    },
    {
      "cell_type": "code",
      "source": [
        "!pip install --upgrade tensorflow-probability --quiet"
      ],
      "metadata": {
        "id": "lyuG0YBU9pG4",
        "colab": {
          "base_uri": "https://localhost:8080/"
        },
        "outputId": "ce34f1db-7f0b-4203-c5be-ccb933e38bd7"
      },
      "execution_count": null,
      "outputs": [
        {
          "output_type": "stream",
          "name": "stdout",
          "text": [
            "\u001b[2K     \u001b[90m━━━━━━━━━━━━━━━━━━━━━━━━━━━━━━━━━━━━━━━━\u001b[0m \u001b[32m6.9/6.9 MB\u001b[0m \u001b[31m20.9 MB/s\u001b[0m eta \u001b[36m0:00:00\u001b[0m\n",
            "\u001b[?25h"
          ]
        }
      ]
    },
    {
      "cell_type": "code",
      "source": [
        "!pip install typing-extensions==3.10.0.0 --quiet"
      ],
      "metadata": {
        "colab": {
          "base_uri": "https://localhost:8080/"
        },
        "id": "gEFQ13iw96ee",
        "outputId": "64140f0b-55bb-4d3a-c832-3b0d6dafdabd"
      },
      "execution_count": null,
      "outputs": [
        {
          "output_type": "stream",
          "name": "stdout",
          "text": [
            "\u001b[31mERROR: pip's dependency resolver does not currently take into account all the packages that are installed. This behaviour is the source of the following dependency conflicts.\n",
            "sqlalchemy 2.0.24 requires typing-extensions>=4.2.0, but you have typing-extensions 3.10.0.0 which is incompatible.\n",
            "arviz 0.15.1 requires typing-extensions>=4.1.0, but you have typing-extensions 3.10.0.0 which is incompatible.\n",
            "chex 0.1.7 requires typing-extensions>=4.2.0; python_version < \"3.11\", but you have typing-extensions 3.10.0.0 which is incompatible.\n",
            "flax 0.7.5 requires typing-extensions>=4.2, but you have typing-extensions 3.10.0.0 which is incompatible.\n",
            "ibis-framework 7.1.0 requires typing-extensions<5,>=4.3.0, but you have typing-extensions 3.10.0.0 which is incompatible.\n",
            "librosa 0.10.1 requires typing-extensions>=4.1.1, but you have typing-extensions 3.10.0.0 which is incompatible.\n",
            "polars 0.17.3 requires typing_extensions>=4.0.1; python_version < \"3.11\", but you have typing-extensions 3.10.0.0 which is incompatible.\n",
            "pydantic 1.10.13 requires typing-extensions>=4.2.0, but you have typing-extensions 3.10.0.0 which is incompatible.\n",
            "python-utils 3.8.1 requires typing-extensions>3.10.0.2, but you have typing-extensions 3.10.0.0 which is incompatible.\u001b[0m\u001b[31m\n",
            "\u001b[0m"
          ]
        }
      ]
    },
    {
      "cell_type": "code",
      "source": [
        "!pip install kaleido --quiet"
      ],
      "metadata": {
        "id": "4hEhoDO0-GW3",
        "colab": {
          "base_uri": "https://localhost:8080/"
        },
        "outputId": "5405c6df-ed19-429d-ae29-2e0922e1ae2e"
      },
      "execution_count": null,
      "outputs": [
        {
          "output_type": "stream",
          "name": "stdout",
          "text": [
            "\u001b[2K     \u001b[90m━━━━━━━━━━━━━━━━━━━━━━━━━━━━━━━━━━━━━━━━\u001b[0m \u001b[32m79.9/79.9 MB\u001b[0m \u001b[31m8.8 MB/s\u001b[0m eta \u001b[36m0:00:00\u001b[0m\n",
            "\u001b[?25h\u001b[31mERROR: pip's dependency resolver does not currently take into account all the packages that are installed. This behaviour is the source of the following dependency conflicts.\n",
            "lida 0.0.10 requires fastapi, which is not installed.\n",
            "lida 0.0.10 requires python-multipart, which is not installed.\n",
            "lida 0.0.10 requires uvicorn, which is not installed.\u001b[0m\u001b[31m\n",
            "\u001b[0m"
          ]
        }
      ]
    },
    {
      "cell_type": "markdown",
      "source": [
        "# Installing Gradio"
      ],
      "metadata": {
        "id": "xCyy1sTV-TLs"
      }
    },
    {
      "cell_type": "code",
      "source": [
        "!pip install gradio --quiet"
      ],
      "metadata": {
        "id": "HL-eIsbq-NIG",
        "colab": {
          "base_uri": "https://localhost:8080/"
        },
        "outputId": "a5bb18ee-3e45-42f2-c636-4673bee4372b"
      },
      "execution_count": null,
      "outputs": [
        {
          "output_type": "stream",
          "name": "stdout",
          "text": [
            "\u001b[2K     \u001b[90m━━━━━━━━━━━━━━━━━━━━━━━━━━━━━━━━━━━━━━━━\u001b[0m \u001b[32m16.6/16.6 MB\u001b[0m \u001b[31m36.5 MB/s\u001b[0m eta \u001b[36m0:00:00\u001b[0m\n",
            "\u001b[2K     \u001b[90m━━━━━━━━━━━━━━━━━━━━━━━━━━━━━━━━━━━━━━━━\u001b[0m \u001b[32m92.0/92.0 kB\u001b[0m \u001b[31m12.4 MB/s\u001b[0m eta \u001b[36m0:00:00\u001b[0m\n",
            "\u001b[?25h  Preparing metadata (setup.py) ... \u001b[?25l\u001b[?25hdone\n",
            "\u001b[2K     \u001b[90m━━━━━━━━━━━━━━━━━━━━━━━━━━━━━━━━━━━━━━━━\u001b[0m \u001b[32m305.1/305.1 kB\u001b[0m \u001b[31m28.4 MB/s\u001b[0m eta \u001b[36m0:00:00\u001b[0m\n",
            "\u001b[2K     \u001b[90m━━━━━━━━━━━━━━━━━━━━━━━━━━━━━━━━━━━━━━━━\u001b[0m \u001b[32m75.9/75.9 kB\u001b[0m \u001b[31m9.8 MB/s\u001b[0m eta \u001b[36m0:00:00\u001b[0m\n",
            "\u001b[2K     \u001b[90m━━━━━━━━━━━━━━━━━━━━━━━━━━━━━━━━━━━━━━━━\u001b[0m \u001b[32m138.7/138.7 kB\u001b[0m \u001b[31m15.1 MB/s\u001b[0m eta \u001b[36m0:00:00\u001b[0m\n",
            "\u001b[2K     \u001b[90m━━━━━━━━━━━━━━━━━━━━━━━━━━━━━━━━━━━━━━━━\u001b[0m \u001b[32m381.9/381.9 kB\u001b[0m \u001b[31m16.8 MB/s\u001b[0m eta \u001b[36m0:00:00\u001b[0m\n",
            "\u001b[2K     \u001b[90m━━━━━━━━━━━━━━━━━━━━━━━━━━━━━━━━━━━━━━━━\u001b[0m \u001b[32m45.7/45.7 kB\u001b[0m \u001b[31m7.1 MB/s\u001b[0m eta \u001b[36m0:00:00\u001b[0m\n",
            "\u001b[2K     \u001b[90m━━━━━━━━━━━━━━━━━━━━━━━━━━━━━━━━━━━━━━━━\u001b[0m \u001b[32m60.3/60.3 kB\u001b[0m \u001b[31m9.3 MB/s\u001b[0m eta \u001b[36m0:00:00\u001b[0m\n",
            "\u001b[2K     \u001b[90m━━━━━━━━━━━━━━━━━━━━━━━━━━━━━━━━━━━━━━━━\u001b[0m \u001b[32m129.9/129.9 kB\u001b[0m \u001b[31m16.4 MB/s\u001b[0m eta \u001b[36m0:00:00\u001b[0m\n",
            "\u001b[2K     \u001b[90m━━━━━━━━━━━━━━━━━━━━━━━━━━━━━━━━━━━━━━━━\u001b[0m \u001b[32m2.1/2.1 MB\u001b[0m \u001b[31m75.4 MB/s\u001b[0m eta \u001b[36m0:00:00\u001b[0m\n",
            "\u001b[2K     \u001b[90m━━━━━━━━━━━━━━━━━━━━━━━━━━━━━━━━━━━━━━━━\u001b[0m \u001b[32m58.3/58.3 kB\u001b[0m \u001b[31m9.3 MB/s\u001b[0m eta \u001b[36m0:00:00\u001b[0m\n",
            "\u001b[2K     \u001b[90m━━━━━━━━━━━━━━━━━━━━━━━━━━━━━━━━━━━━━━━━\u001b[0m \u001b[32m71.1/71.1 kB\u001b[0m \u001b[31m10.1 MB/s\u001b[0m eta \u001b[36m0:00:00\u001b[0m\n",
            "\u001b[2K     \u001b[90m━━━━━━━━━━━━━━━━━━━━━━━━━━━━━━━━━━━━━━━━\u001b[0m \u001b[32m76.9/76.9 kB\u001b[0m \u001b[31m8.2 MB/s\u001b[0m eta \u001b[36m0:00:00\u001b[0m\n",
            "\u001b[?25h  Building wheel for ffmpy (setup.py) ... \u001b[?25l\u001b[?25hdone\n",
            "\u001b[31mERROR: pip's dependency resolver does not currently take into account all the packages that are installed. This behaviour is the source of the following dependency conflicts.\n",
            "llmx 0.0.15a0 requires cohere, which is not installed.\n",
            "llmx 0.0.15a0 requires openai, which is not installed.\n",
            "llmx 0.0.15a0 requires tiktoken, which is not installed.\u001b[0m\u001b[31m\n",
            "\u001b[0m"
          ]
        }
      ]
    },
    {
      "cell_type": "code",
      "source": [
        "import numpy as np\n",
        "import matplotlib.pyplot as plt\n",
        "import tensorflow as tf\n",
        "from keras.models import load_model\n",
        "import gradio as gr"
      ],
      "metadata": {
        "id": "Nh5B_8ihFQ74"
      },
      "execution_count": null,
      "outputs": []
    },
    {
      "cell_type": "markdown",
      "source": [
        "# Labels Dictionaries for CNN Models"
      ],
      "metadata": {
        "id": "arlv1w91-2kC"
      }
    },
    {
      "cell_type": "markdown",
      "source": [
        "# Labels Dictionaries for CNN Model that predicts Malnutrition type"
      ],
      "metadata": {
        "id": "RcmulY_K-6is"
      }
    },
    {
      "cell_type": "code",
      "source": [
        "malnutrition_type_labels_dict = {\n",
        "    \"healthy\" : 0,\n",
        "    \"kwashiorkor\" : 1,\n",
        "    \"marasmus\" : 2\n",
        "}"
      ],
      "metadata": {
        "id": "R2jVpbKK-v8n"
      },
      "execution_count": null,
      "outputs": []
    },
    {
      "cell_type": "markdown",
      "source": [
        "# Labels Dictionaries for CNN Model that predicts Skin Condition (Vitamin B7 & Iron Deficiency)"
      ],
      "metadata": {
        "id": "dkdkvqHH_IW5"
      }
    },
    {
      "cell_type": "code",
      "source": [
        "dry_skin_vitamin_b7_iron_deficiency_labels_dict = {\n",
        "    'healthy_skin' : 0,\n",
        "    'dry_skin' : 1\n",
        "}"
      ],
      "metadata": {
        "id": "2MNP2Kpm_FDs"
      },
      "execution_count": null,
      "outputs": []
    },
    {
      "cell_type": "markdown",
      "source": [
        "# Labels Dictionaries for CNN Model that predicts Eye Condition (Vitamin A Deficiency)"
      ],
      "metadata": {
        "id": "RQtMmixd_XWM"
      }
    },
    {
      "cell_type": "code",
      "source": [
        "vitamin_a_deficiency_labels_dict = {\n",
        "    \"healthy_eyes\" : 0,\n",
        "    \"vitamin_a_deficiency\" : 1\n",
        "}"
      ],
      "metadata": {
        "id": "TdpniHI-_SIC"
      },
      "execution_count": null,
      "outputs": []
    },
    {
      "cell_type": "markdown",
      "source": [
        "# Labels Dictionaries for CNN Model that predicts presence of Iodine Deficiency"
      ],
      "metadata": {
        "id": "HVjw-Nic_hGE"
      }
    },
    {
      "cell_type": "code",
      "source": [
        "iodine_deficiency_labels_dict = {\n",
        "    \"no_iodine_deficiency\" : 0,\n",
        "    \"iodine_deficiency\" : 1\n",
        "}"
      ],
      "metadata": {
        "id": "pF80JLLB_c3Y"
      },
      "execution_count": null,
      "outputs": []
    },
    {
      "cell_type": "markdown",
      "source": [
        "# Function to make predictions, this function would be called inside the predict function (i.e, function that is being called by the Gradio UI) & it would be used for making predictions for the CNN model (Predictor) chosen on the Gradio UI for the Uploaded image by the user\n"
      ],
      "metadata": {
        "id": "QA4hB8grBJGy"
      }
    },
    {
      "cell_type": "code",
      "source": [
        "def prediction(image_path, loaded_model, model_labels_dict):\n",
        "\n",
        "    image = tf.keras.preprocessing.image.load_img(image_path, target_size=(180, 180))\n",
        "    image_array = tf.keras.preprocessing.image.img_to_array(image)\n",
        "    image_array = np.expand_dims(image_array, axis=0)\n",
        "    image_scaled = image_array / 255.0\n",
        "\n",
        "    # Make predictions using the loaded model\n",
        "    predictions = loaded_model.predict(image_scaled)\n",
        "\n",
        "    # Convert predictions to numerical class labels using argmax\n",
        "    predicted_class_index = np.argmax(predictions)\n",
        "\n",
        "    # Display the predicted class\n",
        "    for class_name, class_num_label in model_labels_dict.items():\n",
        "        if class_num_label == predicted_class_index:\n",
        "            # Get the predicted class label name\n",
        "            predicted_class = class_name\n",
        "\n",
        "    return image_path, predicted_class"
      ],
      "metadata": {
        "id": "APqNgfFGBBvp"
      },
      "execution_count": null,
      "outputs": []
    },
    {
      "cell_type": "markdown",
      "source": [
        "# Storing Paths of CNN models in Variables"
      ],
      "metadata": {
        "id": "DVRoHxj6A75r"
      }
    },
    {
      "cell_type": "code",
      "source": [
        "malnutrition_type_model = \"/content/drive/MyDrive/projects_to_work_on/December_2023/Mediapipe_For_Malnutrition_Detection_In_Infants/CNN_for_deficiencies_complete/CNN_Models/malnutrition_type_CNN_model/malnutrition_type_classification_first_CNN_model.h5\"\n",
        "\n",
        "skin_condition_model = \"/content/drive/MyDrive/projects_to_work_on/December_2023/Mediapipe_For_Malnutrition_Detection_In_Infants/CNN_for_deficiencies_complete/CNN_Models/dry_healthy_skin_CNN_model/dry_healthy_skin_classification_first_CNN_model.h5\"\n",
        "\n",
        "eye_condition_model = \"/content/drive/MyDrive/projects_to_work_on/December_2023/Mediapipe_For_Malnutrition_Detection_In_Infants/CNN_for_deficiencies_complete/CNN_Models/vitamin_a_deficiency_CNN_model/vitamin_A_deficient_eyes_classification_first_CNN_model.h5\"\n",
        "\n",
        "iodine_deficiency_model = \"/content/drive/MyDrive/projects_to_work_on/December_2023/Mediapipe_For_Malnutrition_Detection_In_Infants/CNN_for_deficiencies_complete/CNN_Models/iodine_deficiency_CNN_model/healthy_iodine_deficient_classification_first_CNN_model.h5\""
      ],
      "metadata": {
        "id": "2TIGh97-A5Nw"
      },
      "execution_count": null,
      "outputs": []
    },
    {
      "cell_type": "markdown",
      "source": [
        "# List containing Paths of CNN models & their Labels Dictionaries"
      ],
      "metadata": {
        "id": "VWFkMvyHAlux"
      }
    },
    {
      "cell_type": "code",
      "source": [
        "model_classes_list = [[malnutrition_type_model, malnutrition_type_labels_dict],\n",
        "                      [skin_condition_model, dry_skin_vitamin_b7_iron_deficiency_labels_dict],\n",
        "                      [eye_condition_model, vitamin_a_deficiency_labels_dict],\n",
        "                      [iodine_deficiency_model, iodine_deficiency_labels_dict]]"
      ],
      "metadata": {
        "id": "RofS5NshAinx"
      },
      "execution_count": null,
      "outputs": []
    },
    {
      "cell_type": "markdown",
      "source": [
        "# Function to be called by the Gradio UI"
      ],
      "metadata": {
        "id": "NoKOeYnl_5va"
      }
    },
    {
      "cell_type": "code",
      "source": [
        "def predict(image_path, model_type):\n",
        "    predicted_labels_list = []\n",
        "\n",
        "    if model_type == \"Malnutrition_Type_Predictor\":\n",
        "        model_path = model_classes_list[0][0]\n",
        "        model_labels_dict = model_classes_list[0][1]\n",
        "        loaded_model = load_model(model_path)\n",
        "    elif model_type == \"Skin_Condition_Predictor\":\n",
        "        model_path = model_classes_list[1][0]\n",
        "        model_labels_dict = model_classes_list[1][1]\n",
        "        loaded_model = load_model(model_path)\n",
        "    elif model_type == \"Eye Condition Predictor\":\n",
        "        model_path = model_classes_list[2][0]\n",
        "        model_labels_dict = model_classes_list[2][1]\n",
        "        loaded_model = load_model(model_path)\n",
        "    elif model_type == \"Iodine Deficiency Predictor\":\n",
        "        model_path = model_classes_list[3][0]\n",
        "        model_labels_dict = model_classes_list[3][1]\n",
        "        loaded_model = load_model(model_path)\n",
        "\n",
        "    # Call the prediction function\n",
        "    image_path, predicted_class = prediction(image_path, loaded_model, model_labels_dict)\n",
        "\n",
        "    return image_path, predicted_class"
      ],
      "metadata": {
        "id": "UdI5IFnX_z2Z"
      },
      "execution_count": null,
      "outputs": []
    },
    {
      "cell_type": "markdown",
      "source": [
        "# Gradio Interface"
      ],
      "metadata": {
        "id": "3PnjfdPy_wD8"
      }
    },
    {
      "cell_type": "code",
      "source": [
        "def main():\n",
        "    model_list = [\"Malnutrition_Type_Predictor\", \"Skin_Condition_Predictor\", \"Eye Condition Predictor\", \"Iodine Deficiency Predictor\" ]\n",
        "    io = gr.Interface(\n",
        "        fn=predict,\n",
        "        inputs=[gr.File(label=\"Upload an image of a Baby aged between 0 to 5 years\", file_types=[\"image\"]),\n",
        "                gr.Dropdown(label=\"Select Model\", choices=model_list)],\n",
        "        outputs=[gr.Image(label=\"Uploaded Image\", width=400, height=400),\n",
        "                 gr.Textbox(label=\"Chosen CNN Model's Prediction\")],\n",
        "        allow_flagging=\"manual\",\n",
        "        flagging_options=[\"Save\"],\n",
        "        title=\"CNN-Powered Infant Malnutrition Detection System\",\n",
        "        description=\"Predict the Malnutrition Type and Presence of Vitamin B7, Iron, Vitamin A and Iron Deficiencies\",\n",
        "        theme=gr.themes.Soft()\n",
        "    )\n",
        "\n",
        "    io.launch(share=True)\n",
        "\n",
        "if __name__ == \"__main__\":\n",
        "    main()"
      ],
      "metadata": {
        "colab": {
          "base_uri": "https://localhost:8080/",
          "height": 591
        },
        "id": "ebCay92B_nCI",
        "outputId": "7c36d395-a074-451b-e35f-a76c74489b27"
      },
      "execution_count": null,
      "outputs": [
        {
          "output_type": "stream",
          "name": "stdout",
          "text": [
            "Colab notebook detected. To show errors in colab notebook, set debug=True in launch()\n",
            "Running on public URL: https://292d4ef667f96a0f59.gradio.live\n",
            "\n",
            "This share link expires in 72 hours. For free permanent hosting and GPU upgrades, run `gradio deploy` from Terminal to deploy to Spaces (https://huggingface.co/spaces)\n"
          ]
        },
        {
          "output_type": "display_data",
          "data": {
            "text/plain": [
              "<IPython.core.display.HTML object>"
            ],
            "text/html": [
              "<div><iframe src=\"https://292d4ef667f96a0f59.gradio.live\" width=\"100%\" height=\"500\" allow=\"autoplay; camera; microphone; clipboard-read; clipboard-write;\" frameborder=\"0\" allowfullscreen></iframe></div>"
            ]
          },
          "metadata": {}
        }
      ]
    },
    {
      "cell_type": "markdown",
      "source": [
        "<hr>\n",
        "<hr>"
      ],
      "metadata": {
        "id": "7sjorGgTGdYD"
      }
    }
  ]
}